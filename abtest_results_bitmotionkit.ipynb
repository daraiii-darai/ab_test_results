{
 "cells": [
  {
   "cell_type": "markdown",
   "id": "NqOUIYhbrIfC",
   "metadata": {
    "id": "NqOUIYhbrIfC"
   },
   "source": [
    "# Анализ результатов A/B-теста для интернет-магазина BitMotion Kit"
   ]
  },
  {
   "cell_type": "markdown",
   "id": "tDwMKFNGsClr",
   "metadata": {
    "id": "tDwMKFNGsClr"
   },
   "source": [
    "В данном исследовании была проведена оценка результатов A/B-теста, выполненного для интернет-магазина BitMotion Kit, специализирующегося на геймифицированных товарах для здорового образа жизни. Компания планировала расширить ассортимент товаров, однако выявила проблему — интерфейс сайта оказался слишком сложным для пользователей, что отражалось в отзывах. Для решения этой задачи была разработана новая версия сайта, которая была протестирована на части аудитории с целью повышения конверсии и увеличения числа покупок. \n",
    "\n",
    "Во время анализа в распоряжении находились данные о действиях пользователей и их распределении по группам, а также техническое задание. В рамках исследования была оценена корректность проведения A/B-теста и проанализированы его результаты для определения эффективности изменений и обоснования дальнейших шагов по улучшению сайта."
   ]
  },
  {
   "cell_type": "markdown",
   "id": "UNXAAyF5r9Rk",
   "metadata": {
    "id": "UNXAAyF5r9Rk"
   },
   "source": [
    "## 1. Цель и задачи исследования\n",
    "\n",
    "### Цель\n",
    "\n",
    "Провести оценку результатов A/B-теста на основе анализа данных интернет-магазина спортивных товаров BitMotion Kit.\n",
    "\n",
    "### Задачи\n",
    "\n",
    "1. Загрузить данные и ознакомиться с ними;\n",
    "2. Провести предобработку данных для дальнейшего анализа;\n",
    "3. Сформировать нулевую и альтернативную гипотезы;\n",
    "4. Сравнить распределение данных и статистики в тестовых группах;\n",
    "5. Оценить успешность нововведения."
   ]
  },
  {
   "cell_type": "markdown",
   "id": "33814b63-826e-4b04-98d7-7ced87d68fee",
   "metadata": {},
   "source": [
    "## 2. Описание данных\n",
    "\n",
    "Данные представлены двумя таблицами: таблица участников тестов и архив с одним csv-файлом, в котором собраны события 2020 года;\n",
    "\n",
    "### Поля таблицы `ab_test_participants.csv`: \n",
    "[Данные предоставлены Яндекс Практикум](https://clck.ru/3Nkist)  \n",
    "\n",
    "### Поля таблицы `ab_test_events.zip`: \n",
    "[Данные предоставлены Яндекс Практикум](https://clck.ru/3Nkist)    "
   ]
  },
  {
   "cell_type": "markdown",
   "id": "5455e07a-5c00-4323-ba22-5f6346a1ebbf",
   "metadata": {},
   "source": [
    "## Нулевая и альтернативная гипотезы"
   ]
  },
  {
   "cell_type": "markdown",
   "id": "c02d5a9d-3708-4be3-a693-c8184dbf7502",
   "metadata": {},
   "source": [
    "Чтобы привлечь новых клиентов и увеличить число продаж, владельцы магазина разработали новую версию сайта и протестировали его на части пользователей. По задумке, это решение доказуемо повысит количество пользователей, которые совершат покупку.\n",
    "\n",
    "\n",
    "**Нулевая гипотеза**: Конверсия пользователя в покупку на новой версии сайта не изменилась по сравнению со старой версией сайта.\n",
    "$$ H \n",
    "0\n",
    " :CR \n",
    "новый\n",
    " =CR \n",
    "старый\n",
    " $$\n",
    "**Альтенативная гипотеза**: Конверсия пользователя в покупку на новой версии сайта увеличилась по сравнению со старой версией сайта, и это отличие статистически значимо.\n",
    "$$ H \n",
    "1\n",
    " :CR \n",
    "новый\n",
    " >CR \n",
    "старый\n",
    " $$"
   ]
  },
  {
   "cell_type": "markdown",
   "id": "19520eaf-d9b8-40a8-ba9b-a09c559a4464",
   "metadata": {},
   "source": [
    "## Содержимое проекта\n",
    "\n",
    "1. Загрузка данных и знакомство с ними\n",
    "2. Оценка корректности теста\n",
    "3. Оценка результатов A/B-тестирования\n",
    "4. Итоги анализа результатов A/B-тестирования"
   ]
  },
  {
   "cell_type": "markdown",
   "id": "_CZryx2OsH-s",
   "metadata": {
    "id": "_CZryx2OsH-s"
   },
   "source": [
    "## 1. Загрузка данных и знакомство с ними\n"
   ]
  },
  {
   "cell_type": "code",
   "execution_count": 2,
   "id": "44b39dc5-bc7e-4282-a762-3b4f30400010",
   "metadata": {
    "jupyter": {
     "source_hidden": true
    },
    "scrolled": true
   },
   "outputs": [],
   "source": [
    "# Загружаем нужные для анализа данных библиотеки \n",
    "import pandas as pd\n",
    "import matplotlib.pyplot as plt\n",
    "import numpy as np\n",
    "import seaborn as sns\n",
    "from scipy.stats import ttest_ind"
   ]
  },
  {
   "cell_type": "code",
   "execution_count": 3,
   "id": "DjFcJbeGsTIg",
   "metadata": {
    "id": "DjFcJbeGsTIg",
    "jupyter": {
     "source_hidden": true
    }
   },
   "outputs": [],
   "source": [
    "# Загружаем датафреймы\n",
    "participants = pd.read_csv(\n",
    "    \"https://code.s3.yandex.net/datasets/ab_test_participants.csv\"\n",
    ")\n",
    "events = pd.read_csv(\n",
    "    \"https://code.s3.yandex.net/datasets/ab_test_events.zip\",\n",
    "    parse_dates=[\"event_dt\"],\n",
    "    low_memory=False,\n",
    ")"
   ]
  },
  {
   "cell_type": "markdown",
   "id": "1ddeb26a-1a61-4246-9906-2f2796ab4f2f",
   "metadata": {},
   "source": [
    "### `ab_test_participants`"
   ]
  },
  {
   "cell_type": "code",
   "execution_count": 14,
   "id": "81d8915f-0540-4e4f-b8c6-a8aa65e84c40",
   "metadata": {},
   "outputs": [
    {
     "data": {
      "text/html": [
       "<div>\n",
       "<style scoped>\n",
       "    .dataframe tbody tr th:only-of-type {\n",
       "        vertical-align: middle;\n",
       "    }\n",
       "\n",
       "    .dataframe tbody tr th {\n",
       "        vertical-align: top;\n",
       "    }\n",
       "\n",
       "    .dataframe thead th {\n",
       "        text-align: right;\n",
       "    }\n",
       "</style>\n",
       "<table border=\"1\" class=\"dataframe\">\n",
       "  <thead>\n",
       "    <tr style=\"text-align: right;\">\n",
       "      <th></th>\n",
       "      <th>user_id</th>\n",
       "      <th>group</th>\n",
       "      <th>ab_test</th>\n",
       "      <th>device</th>\n",
       "    </tr>\n",
       "  </thead>\n",
       "  <tbody>\n",
       "    <tr>\n",
       "      <th>0</th>\n",
       "      <td>0002CE61FF2C4011</td>\n",
       "      <td>B</td>\n",
       "      <td>interface_eu_test</td>\n",
       "      <td>Mac</td>\n",
       "    </tr>\n",
       "    <tr>\n",
       "      <th>1</th>\n",
       "      <td>001064FEAAB631A1</td>\n",
       "      <td>B</td>\n",
       "      <td>recommender_system_test</td>\n",
       "      <td>Android</td>\n",
       "    </tr>\n",
       "    <tr>\n",
       "      <th>2</th>\n",
       "      <td>001064FEAAB631A1</td>\n",
       "      <td>A</td>\n",
       "      <td>interface_eu_test</td>\n",
       "      <td>Android</td>\n",
       "    </tr>\n",
       "    <tr>\n",
       "      <th>3</th>\n",
       "      <td>0010A1C096941592</td>\n",
       "      <td>A</td>\n",
       "      <td>recommender_system_test</td>\n",
       "      <td>Android</td>\n",
       "    </tr>\n",
       "    <tr>\n",
       "      <th>4</th>\n",
       "      <td>001E72F50D1C48FA</td>\n",
       "      <td>A</td>\n",
       "      <td>interface_eu_test</td>\n",
       "      <td>Mac</td>\n",
       "    </tr>\n",
       "  </tbody>\n",
       "</table>\n",
       "</div>"
      ],
      "text/plain": [
       "            user_id group                  ab_test   device\n",
       "0  0002CE61FF2C4011     B        interface_eu_test      Mac\n",
       "1  001064FEAAB631A1     B  recommender_system_test  Android\n",
       "2  001064FEAAB631A1     A        interface_eu_test  Android\n",
       "3  0010A1C096941592     A  recommender_system_test  Android\n",
       "4  001E72F50D1C48FA     A        interface_eu_test      Mac"
      ]
     },
     "execution_count": 14,
     "metadata": {},
     "output_type": "execute_result"
    }
   ],
   "source": [
    "# Выводим на экран первые 5 строк датафрейма participants\n",
    "participants.head()"
   ]
  },
  {
   "cell_type": "code",
   "execution_count": 15,
   "id": "118fabd0-3386-4f83-bb5a-9c54c95653be",
   "metadata": {},
   "outputs": [
    {
     "name": "stdout",
     "output_type": "stream",
     "text": [
      "<class 'pandas.core.frame.DataFrame'>\n",
      "RangeIndex: 14525 entries, 0 to 14524\n",
      "Data columns (total 4 columns):\n",
      " #   Column   Non-Null Count  Dtype \n",
      "---  ------   --------------  ----- \n",
      " 0   user_id  14525 non-null  object\n",
      " 1   group    14525 non-null  object\n",
      " 2   ab_test  14525 non-null  object\n",
      " 3   device   14525 non-null  object\n",
      "dtypes: object(4)\n",
      "memory usage: 454.0+ KB\n"
     ]
    }
   ],
   "source": [
    "# Выводим на экран информацию о датафрейме participants\n",
    "participants.info()"
   ]
  },
  {
   "cell_type": "markdown",
   "id": "32aeacf3-0c20-4a6b-bcae-16fa16d53195",
   "metadata": {},
   "source": [
    "Данные в датафрейме представлены 4 столбцами и 14525 строками. Столбцы названы корректно, типы данных корректны, в данных нет пропусков. "
   ]
  },
  {
   "cell_type": "markdown",
   "id": "e8b29544-a171-426c-8e50-59a6631aeee8",
   "metadata": {},
   "source": [
    "### `ab_test_events`"
   ]
  },
  {
   "cell_type": "code",
   "execution_count": 16,
   "id": "78091d34-2493-4ad6-873d-518d583ab63a",
   "metadata": {},
   "outputs": [
    {
     "data": {
      "text/html": [
       "<div>\n",
       "<style scoped>\n",
       "    .dataframe tbody tr th:only-of-type {\n",
       "        vertical-align: middle;\n",
       "    }\n",
       "\n",
       "    .dataframe tbody tr th {\n",
       "        vertical-align: top;\n",
       "    }\n",
       "\n",
       "    .dataframe thead th {\n",
       "        text-align: right;\n",
       "    }\n",
       "</style>\n",
       "<table border=\"1\" class=\"dataframe\">\n",
       "  <thead>\n",
       "    <tr style=\"text-align: right;\">\n",
       "      <th></th>\n",
       "      <th>user_id</th>\n",
       "      <th>event_dt</th>\n",
       "      <th>event_name</th>\n",
       "      <th>details</th>\n",
       "    </tr>\n",
       "  </thead>\n",
       "  <tbody>\n",
       "    <tr>\n",
       "      <th>0</th>\n",
       "      <td>GLOBAL</td>\n",
       "      <td>2020-12-01 00:00:00</td>\n",
       "      <td>End of Black Friday Ads Campaign</td>\n",
       "      <td>ZONE_CODE15</td>\n",
       "    </tr>\n",
       "    <tr>\n",
       "      <th>1</th>\n",
       "      <td>CCBE9E7E99F94A08</td>\n",
       "      <td>2020-12-01 00:00:11</td>\n",
       "      <td>registration</td>\n",
       "      <td>0.0</td>\n",
       "    </tr>\n",
       "    <tr>\n",
       "      <th>2</th>\n",
       "      <td>GLOBAL</td>\n",
       "      <td>2020-12-01 00:00:25</td>\n",
       "      <td>product_page</td>\n",
       "      <td>NaN</td>\n",
       "    </tr>\n",
       "    <tr>\n",
       "      <th>3</th>\n",
       "      <td>CCBE9E7E99F94A08</td>\n",
       "      <td>2020-12-01 00:00:33</td>\n",
       "      <td>login</td>\n",
       "      <td>NaN</td>\n",
       "    </tr>\n",
       "    <tr>\n",
       "      <th>4</th>\n",
       "      <td>CCBE9E7E99F94A08</td>\n",
       "      <td>2020-12-01 00:00:52</td>\n",
       "      <td>product_page</td>\n",
       "      <td>NaN</td>\n",
       "    </tr>\n",
       "  </tbody>\n",
       "</table>\n",
       "</div>"
      ],
      "text/plain": [
       "            user_id            event_dt                        event_name  \\\n",
       "0            GLOBAL 2020-12-01 00:00:00  End of Black Friday Ads Campaign   \n",
       "1  CCBE9E7E99F94A08 2020-12-01 00:00:11                      registration   \n",
       "2            GLOBAL 2020-12-01 00:00:25                      product_page   \n",
       "3  CCBE9E7E99F94A08 2020-12-01 00:00:33                             login   \n",
       "4  CCBE9E7E99F94A08 2020-12-01 00:00:52                      product_page   \n",
       "\n",
       "       details  \n",
       "0  ZONE_CODE15  \n",
       "1          0.0  \n",
       "2          NaN  \n",
       "3          NaN  \n",
       "4          NaN  "
      ]
     },
     "execution_count": 16,
     "metadata": {},
     "output_type": "execute_result"
    }
   ],
   "source": [
    "# Выводим на экран первые 5 строк датафрейма events\n",
    "events.head()"
   ]
  },
  {
   "cell_type": "code",
   "execution_count": 17,
   "id": "b44217c2-22f1-4e83-b9e1-4ac3fab6a5ec",
   "metadata": {},
   "outputs": [
    {
     "name": "stdout",
     "output_type": "stream",
     "text": [
      "<class 'pandas.core.frame.DataFrame'>\n",
      "RangeIndex: 787286 entries, 0 to 787285\n",
      "Data columns (total 4 columns):\n",
      " #   Column      Non-Null Count   Dtype         \n",
      "---  ------      --------------   -----         \n",
      " 0   user_id     787286 non-null  object        \n",
      " 1   event_dt    787286 non-null  datetime64[ns]\n",
      " 2   event_name  787286 non-null  object        \n",
      " 3   details     249022 non-null  object        \n",
      "dtypes: datetime64[ns](1), object(3)\n",
      "memory usage: 24.0+ MB\n"
     ]
    }
   ],
   "source": [
    "# Выводим на экран информацию о датафрейме events\n",
    "events.info()"
   ]
  },
  {
   "cell_type": "markdown",
   "id": "1a243fe7-c406-4c7a-8291-236a6dffec26",
   "metadata": {},
   "source": [
    "Данные в датафрейме представлены 4 столбцами и 787286 строками. Столбцы названы корректно, типы данных корректны. Пропуски в данных наблюдаются в столбце `details`, содержащем детали о событии. Пропуски в этом столбце не являются критичными для исследования."
   ]
  },
  {
   "cell_type": "markdown",
   "id": "CnzA-efasUrk",
   "metadata": {
    "id": "CnzA-efasUrk"
   },
   "source": [
    "## 2. Оценка корректности теста\n",
    "\n",
    "Перед исследованием результатов A/B-теста важно убедиться в корректности собранных данных и его проведения. Для этого выделим участников теста из датафрейма и проверим равномерность распределения пользователей на тестовые группы."
   ]
  },
  {
   "cell_type": "code",
   "execution_count": 18,
   "id": "5b3cbde3-6391-408f-aa8f-eb9739967f60",
   "metadata": {},
   "outputs": [
    {
     "data": {
      "text/plain": [
       "0              interface_eu_test\n",
       "1        recommender_system_test\n",
       "2              interface_eu_test\n",
       "3        recommender_system_test\n",
       "4              interface_eu_test\n",
       "                  ...           \n",
       "14520          interface_eu_test\n",
       "14521          interface_eu_test\n",
       "14522    recommender_system_test\n",
       "14523          interface_eu_test\n",
       "14524          interface_eu_test\n",
       "Name: ab_test, Length: 14525, dtype: category\n",
       "Categories (2, object): ['interface_eu_test', 'recommender_system_test']"
      ]
     },
     "execution_count": 18,
     "metadata": {},
     "output_type": "execute_result"
    }
   ],
   "source": [
    "# Преобразим тип данных столбца 'ab_test' с названием теста\n",
    "participants['ab_test'] = participants['ab_test'].astype('category')\n",
    "participants['ab_test']"
   ]
  },
  {
   "cell_type": "markdown",
   "id": "c688993b-c1c1-4eef-b817-c1b2a8630973",
   "metadata": {},
   "source": [
    "После преобразования типа данных столбца `ab_test` вывели все его значения и убедились в том, что в датафрейме содержатся данные о проведении двух A/B-тестов. Выделим пользователей участвующих в тесте о интерфейсе сайта."
   ]
  },
  {
   "cell_type": "code",
   "execution_count": 19,
   "id": "383cf5d3-f73d-42ba-8d2c-db7d4bf9be81",
   "metadata": {},
   "outputs": [
    {
     "data": {
      "text/html": [
       "<div>\n",
       "<style scoped>\n",
       "    .dataframe tbody tr th:only-of-type {\n",
       "        vertical-align: middle;\n",
       "    }\n",
       "\n",
       "    .dataframe tbody tr th {\n",
       "        vertical-align: top;\n",
       "    }\n",
       "\n",
       "    .dataframe thead th {\n",
       "        text-align: right;\n",
       "    }\n",
       "</style>\n",
       "<table border=\"1\" class=\"dataframe\">\n",
       "  <thead>\n",
       "    <tr style=\"text-align: right;\">\n",
       "      <th></th>\n",
       "      <th>user_id</th>\n",
       "    </tr>\n",
       "    <tr>\n",
       "      <th>group</th>\n",
       "      <th></th>\n",
       "    </tr>\n",
       "  </thead>\n",
       "  <tbody>\n",
       "    <tr>\n",
       "      <th>A</th>\n",
       "      <td>5383</td>\n",
       "    </tr>\n",
       "    <tr>\n",
       "      <th>B</th>\n",
       "      <td>5467</td>\n",
       "    </tr>\n",
       "  </tbody>\n",
       "</table>\n",
       "</div>"
      ],
      "text/plain": [
       "       user_id\n",
       "group         \n",
       "A         5383\n",
       "B         5467"
      ]
     },
     "execution_count": 19,
     "metadata": {},
     "output_type": "execute_result"
    }
   ],
   "source": [
    "# Отфильтровали строки датафрейма\n",
    "participants_int = participants[participants['ab_test'] == 'interface_eu_test']\n",
    "\n",
    "# Группируем пользователей по тестовым группам\n",
    "participants_grouped = participants_int.groupby('group').agg({'user_id': 'count'})\n",
    "participants_grouped"
   ]
  },
  {
   "cell_type": "markdown",
   "id": "103e49b9-b47a-42c2-a5f3-e179886d50cd",
   "metadata": {},
   "source": [
    "Тестовые группы имеют примерно равное количество участников и не должны исказить результаты А/В-теста.\n",
    "\n",
    "Убедимся, что нет пользователей, которые попали в обе тестовые группы."
   ]
  },
  {
   "cell_type": "code",
   "execution_count": 20,
   "id": "4f74f27b-1d4c-4445-8c5d-8b0937cf70e2",
   "metadata": {},
   "outputs": [
    {
     "name": "stdout",
     "output_type": "stream",
     "text": [
      "Пользователей, находящихся в обеих группах: 0\n"
     ]
    }
   ],
   "source": [
    "# Создаем группы пользователей из групп А и В\n",
    "a_users = participants_int[participants_int['group'] == 'A']['user_id']\n",
    "b_users = participants_int[participants_int['group'] == 'B']['user_id']\n",
    "\n",
    "# Преобразуем серии в множества и находим их пересечение (общих пользователей)\n",
    "intersection = list(set(a_users) & set(b_users))\n",
    "print(f'Пользователей, находящихся в обеих группах: {len(intersection)}')"
   ]
  },
  {
   "cell_type": "markdown",
   "id": "003b9d39-db2b-4ec5-94b9-dba6bca0698c",
   "metadata": {},
   "source": [
    "Убедимся, что среди пользователей теста интерфейса сайта нет пользователей, участвующих в других тестах. "
   ]
  },
  {
   "cell_type": "code",
   "execution_count": 21,
   "id": "ee574c3b-e6ce-4b04-ac49-ef2fdcd7c966",
   "metadata": {},
   "outputs": [
    {
     "name": "stdout",
     "output_type": "stream",
     "text": [
      "Пользователей, находящихся в обеих группах: 887\n"
     ]
    }
   ],
   "source": [
    "# Создаем группы пользователей из групп разных тестов\n",
    "interface_test = participants[participants['ab_test'] == 'interface_eu_test']['user_id']\n",
    "recommender_test = participants[participants['ab_test'] == 'recommender_system_test']['user_id']\n",
    "\n",
    "# Преобразуем серии в множества и находим их пересечение (общих пользователей)\n",
    "intersection = list(set(interface_test) & set(recommender_test))\n",
    "print(f'Пользователей, находящихся в обеих группах: {len(intersection)}')"
   ]
  },
  {
   "cell_type": "markdown",
   "id": "b82ff9c0-ef18-4ca2-b01d-a43d59cf7298",
   "metadata": {},
   "source": [
    "Данные пользователи, участвуя в двух тестах одновременно, искажают результаты теста, так как нельзя точно сказать, какое именно изменение в работе продукта повлияло на их поведение, поэтому во изюежание искажения результатов теста эти строки следует удалить."
   ]
  },
  {
   "cell_type": "code",
   "execution_count": 22,
   "id": "b4f23897-0729-4936-912d-25e954aaac41",
   "metadata": {},
   "outputs": [],
   "source": [
    "# Удаляем найденные ранее строки\n",
    "participants.drop(\n",
    "    index=participants.loc[participants['user_id'].isin(intersection)].index,\n",
    "    inplace=True\n",
    ")\n",
    "\n",
    "# Перезаписываем датафрейм с участниками теста интерфейса\n",
    "participants_int = participants[participants['ab_test'] == 'interface_eu_test']"
   ]
  },
  {
   "cell_type": "markdown",
   "id": "0bd771dd-fd0f-4157-aec9-457a789a4f1a",
   "metadata": {
    "id": "QMt0Ybo_swDK"
   },
   "source": [
    "В датафрейме `events` оставим только события, связанные с участвующими в тесте пользователями."
   ]
  },
  {
   "cell_type": "code",
   "execution_count": 23,
   "id": "60a357a5-1dfd-4309-866a-dae0cb26e6cd",
   "metadata": {},
   "outputs": [],
   "source": [
    "# Список пользователей, участвующих в тесте \n",
    "users_in_test = participants_int['user_id'].unique()\n",
    "\n",
    "# Фильтруем события только для этих пользователей\n",
    "events_int = events[events['user_id'].isin(users_in_test)]"
   ]
  },
  {
   "cell_type": "markdown",
   "id": "e33e8426-087e-4a16-9836-b9c209b4cb5e",
   "metadata": {},
   "source": [
    "Рассчитаем время (лайфтайм) совершения события после регистрации и оставим только события, которые были совершены в течение семи первых дней с момента регистрации."
   ]
  },
  {
   "cell_type": "code",
   "execution_count": 24,
   "id": "e9258fa5-c9d2-4b03-ab27-255be175a475",
   "metadata": {},
   "outputs": [
    {
     "data": {
      "text/html": [
       "<div>\n",
       "<style scoped>\n",
       "    .dataframe tbody tr th:only-of-type {\n",
       "        vertical-align: middle;\n",
       "    }\n",
       "\n",
       "    .dataframe tbody tr th {\n",
       "        vertical-align: top;\n",
       "    }\n",
       "\n",
       "    .dataframe thead th {\n",
       "        text-align: right;\n",
       "    }\n",
       "</style>\n",
       "<table border=\"1\" class=\"dataframe\">\n",
       "  <thead>\n",
       "    <tr style=\"text-align: right;\">\n",
       "      <th></th>\n",
       "      <th>user_id</th>\n",
       "      <th>event_dt</th>\n",
       "      <th>event_name</th>\n",
       "      <th>details</th>\n",
       "      <th>registration_date</th>\n",
       "      <th>lifetime_days</th>\n",
       "    </tr>\n",
       "  </thead>\n",
       "  <tbody>\n",
       "    <tr>\n",
       "      <th>0</th>\n",
       "      <td>5F506CEBEDC05D30</td>\n",
       "      <td>2020-12-06 14:10:01</td>\n",
       "      <td>registration</td>\n",
       "      <td>0.0</td>\n",
       "      <td>2020-12-06 14:10:01</td>\n",
       "      <td>0</td>\n",
       "    </tr>\n",
       "    <tr>\n",
       "      <th>1</th>\n",
       "      <td>5F506CEBEDC05D30</td>\n",
       "      <td>2020-12-07 01:25:14</td>\n",
       "      <td>login</td>\n",
       "      <td>NaN</td>\n",
       "      <td>2020-12-06 14:10:01</td>\n",
       "      <td>0</td>\n",
       "    </tr>\n",
       "    <tr>\n",
       "      <th>2</th>\n",
       "      <td>5F506CEBEDC05D30</td>\n",
       "      <td>2020-12-07 01:25:47</td>\n",
       "      <td>login</td>\n",
       "      <td>NaN</td>\n",
       "      <td>2020-12-06 14:10:01</td>\n",
       "      <td>0</td>\n",
       "    </tr>\n",
       "    <tr>\n",
       "      <th>3</th>\n",
       "      <td>5F506CEBEDC05D30</td>\n",
       "      <td>2020-12-09 12:40:49</td>\n",
       "      <td>login</td>\n",
       "      <td>NaN</td>\n",
       "      <td>2020-12-06 14:10:01</td>\n",
       "      <td>2</td>\n",
       "    </tr>\n",
       "    <tr>\n",
       "      <th>4</th>\n",
       "      <td>5F506CEBEDC05D30</td>\n",
       "      <td>2020-12-09 12:40:49</td>\n",
       "      <td>product_page</td>\n",
       "      <td>NaN</td>\n",
       "      <td>2020-12-06 14:10:01</td>\n",
       "      <td>2</td>\n",
       "    </tr>\n",
       "  </tbody>\n",
       "</table>\n",
       "</div>"
      ],
      "text/plain": [
       "            user_id            event_dt    event_name details  \\\n",
       "0  5F506CEBEDC05D30 2020-12-06 14:10:01  registration     0.0   \n",
       "1  5F506CEBEDC05D30 2020-12-07 01:25:14         login     NaN   \n",
       "2  5F506CEBEDC05D30 2020-12-07 01:25:47         login     NaN   \n",
       "3  5F506CEBEDC05D30 2020-12-09 12:40:49         login     NaN   \n",
       "4  5F506CEBEDC05D30 2020-12-09 12:40:49  product_page     NaN   \n",
       "\n",
       "    registration_date  lifetime_days  \n",
       "0 2020-12-06 14:10:01              0  \n",
       "1 2020-12-06 14:10:01              0  \n",
       "2 2020-12-06 14:10:01              0  \n",
       "3 2020-12-06 14:10:01              2  \n",
       "4 2020-12-06 14:10:01              2  "
      ]
     },
     "execution_count": 24,
     "metadata": {},
     "output_type": "execute_result"
    }
   ],
   "source": [
    "# Определяем дату регистрации\n",
    "registration_dates = (\n",
    "    events_int.loc[events_int['event_name'] == 'registration', ['user_id', 'event_dt']]\n",
    "    .groupby('user_id', as_index=False, sort=False)\n",
    "    .min()\n",
    "    .rename(columns={'event_dt': 'registration_date'})\n",
    ")\n",
    "\n",
    "# Оставляем только пользователей с регистрацией\n",
    "events_int = events_int.merge(registration_dates, on='user_id', how='inner')\n",
    "\n",
    "# Вычисляем разницу в днях\n",
    "events_int['lifetime_days'] = (events_int['event_dt'] - events_int['registration_date']).dt.days\n",
    "\n",
    "# Фильтруем события, произошедшие в первые 7 дней после регистрации включительно\n",
    "events_filtered = events_int[events_int['lifetime_days'].between(0, 7)].copy()\n",
    "events_filtered.head()"
   ]
  },
  {
   "cell_type": "markdown",
   "id": "0c23cf15-d782-4195-941f-8b8d0129add2",
   "metadata": {},
   "source": [
    "### Оценка параметров теста\n",
    "\n",
    "Заданные параметры теста: \n",
    "* базовый показатель конверсии — 30%,\n",
    "* мощность теста — 80%,\n",
    "* достоверность теста — 95%,\n",
    "* MDE — 3%.\n",
    "  \n",
    "Заданные параметры являются стандартными для продуктовой гипотезы и подходят для данного исследования. Найдем необходимый размер выборки для каждой группы."
   ]
  },
  {
   "cell_type": "code",
   "execution_count": 25,
   "id": "e67a0732-4f24-455f-912d-b10afa1203fd",
   "metadata": {},
   "outputs": [
    {
     "name": "stdout",
     "output_type": "stream",
     "text": [
      "Требуемый размер выборки на группу: 3761\n"
     ]
    }
   ],
   "source": [
    "from statsmodels.stats.power import zt_ind_solve_power\n",
    "\n",
    "# Параметры\n",
    "p1 = 0.30\n",
    "p2 = p1 + 0.03  # ожидаемый эффект (MDE)\n",
    "effect_size = 0.2  # Минимальный значимый эффект\n",
    "alpha = 0.05       # Уровень значимости \n",
    "power = 0.8        # Статистическая мощность\n",
    "\n",
    "# Вычисляем Cohen's h для разницы пропорций\n",
    "def proportion_effect_size(p1, p2):\n",
    "    return 2 * np.arcsin(np.sqrt(p2)) - 2 * np.arcsin(np.sqrt(p1))\n",
    "\n",
    "effect_size = proportion_effect_size(p1, p2)\n",
    "\n",
    "# Расчет размера выборки на группу при равных группах\n",
    "sample_size_per_group = zt_ind_solve_power(effect_size=effect_size,\n",
    "                                            alpha=alpha,\n",
    "                                            power=power,\n",
    "                                            ratio=1.0,\n",
    "                                            alternative='two-sided')\n",
    "\n",
    "print(f\"Требуемый размер выборки на группу: {int(sample_size_per_group)}\")"
   ]
  },
  {
   "cell_type": "markdown",
   "id": "b03ebe25-e9b9-43d7-83b2-624698236813",
   "metadata": {},
   "source": [
    "Рассчитаем для каждой группы количество посетителей, сделавших покупку, и общее количество посетителей, для того, чтобы убедиться, что в выборках достаточно данных для корректного результата теста."
   ]
  },
  {
   "cell_type": "code",
   "execution_count": 26,
   "id": "eb0a147f-3c3e-4f1a-9e4d-b186938ccf6f",
   "metadata": {},
   "outputs": [
    {
     "data": {
      "text/html": [
       "<div>\n",
       "<style scoped>\n",
       "    .dataframe tbody tr th:only-of-type {\n",
       "        vertical-align: middle;\n",
       "    }\n",
       "\n",
       "    .dataframe tbody tr th {\n",
       "        vertical-align: top;\n",
       "    }\n",
       "\n",
       "    .dataframe thead th {\n",
       "        text-align: right;\n",
       "    }\n",
       "</style>\n",
       "<table border=\"1\" class=\"dataframe\">\n",
       "  <thead>\n",
       "    <tr style=\"text-align: right;\">\n",
       "      <th></th>\n",
       "      <th>Группа</th>\n",
       "      <th>Общее кол-во посетителей</th>\n",
       "      <th>Кол-во покупателей</th>\n",
       "    </tr>\n",
       "  </thead>\n",
       "  <tbody>\n",
       "    <tr>\n",
       "      <th>0</th>\n",
       "      <td>A</td>\n",
       "      <td>4952</td>\n",
       "      <td>1638</td>\n",
       "    </tr>\n",
       "    <tr>\n",
       "      <th>1</th>\n",
       "      <td>B</td>\n",
       "      <td>5011</td>\n",
       "      <td>1782</td>\n",
       "    </tr>\n",
       "  </tbody>\n",
       "</table>\n",
       "</div>"
      ],
      "text/plain": [
       "  Группа  Общее кол-во посетителей  Кол-во покупателей\n",
       "0      A                      4952                1638\n",
       "1      B                      5011                1782"
      ]
     },
     "execution_count": 26,
     "metadata": {},
     "output_type": "execute_result"
    }
   ],
   "source": [
    "# Находим пользователей из тестовых групп\n",
    "a_visitors =  participants_int[participants_int['group'] == 'A']\n",
    "b_visitors =  participants_int[participants_int['group'] == 'B']\n",
    "\n",
    "# Считаем число посетителей из каждой группы\n",
    "a_visitors_total = a_visitors['user_id'].nunique()\n",
    "b_visitors_total = b_visitors['user_id'].nunique()\n",
    "\n",
    "# Находим множество всех покупателей\n",
    "buyers = events_int[events_int['event_name'] == 'purchase']['user_id']\n",
    "\n",
    "# Получаем множества user_id для покупателей и посетителей групп A и B\n",
    "buyers_set = set(buyers)\n",
    "a_visitors_set = set(a_visitors['user_id'])\n",
    "b_visitors_set = set(b_visitors['user_id'])\n",
    "\n",
    "# Находим количество покупателей в каждой группе\n",
    "a_buyers_count = len(buyers_set & a_visitors_set)\n",
    "b_buyers_count = len(buyers_set & b_visitors_set)\n",
    "\n",
    "# Составляем таблицу для удобной визуализации\n",
    "data = {\n",
    "    'Группа': ['A', 'B'],\n",
    "    'Общее кол-во посетителей': [a_visitors_total, b_visitors_total],\n",
    "    'Кол-во покупателей': [a_buyers_count, b_buyers_count]\n",
    "}\n",
    "\n",
    "# Преобразуем в DataFrame\n",
    "result_df = pd.DataFrame(data)\n",
    "result_df"
   ]
  },
  {
   "cell_type": "markdown",
   "id": "5a949b6f-2f93-47ae-b70c-f6d1c3c63503",
   "metadata": {},
   "source": [
    "Сравним показатели конверсии в контрольной группе и группе, использовавшей новый интерфейс."
   ]
  },
  {
   "cell_type": "code",
   "execution_count": 27,
   "id": "87ab6918-79b3-418e-a5d9-657f4883c843",
   "metadata": {},
   "outputs": [
    {
     "name": "stdout",
     "output_type": "stream",
     "text": [
      "Конверсия в покупку в группе А: 33.0775%\n",
      "Конверсия в покупку в группе В: 35.5618%\n",
      "\n",
      "Группа В достигла или превысила целевой уровень конверсии.\n"
     ]
    }
   ],
   "source": [
    "# Доли покупателей в тестовых группах\n",
    "a_buyers_share = (a_buyers_count / a_visitors_total) * 100\n",
    "b_buyers_share = (b_buyers_count / b_visitors_total) * 100\n",
    "\n",
    "# Базовая конверсия\n",
    "baseline_conversion = 0.30\n",
    "\n",
    "# Целевой прирост в процентах\n",
    "target_increase = 0.03 \n",
    "\n",
    "# Расчет целевой конверсии\n",
    "target_conversion = baseline_conversion + target_increase\n",
    "\n",
    "print(f\"\"\"Конверсия в покупку в группе А: {a_buyers_share:.4f}%\n",
    "Конверсия в покупку в группе В: {b_buyers_share:.4f}%\n",
    "\"\"\")\n",
    "\n",
    "if b_buyers_share >= target_conversion:\n",
    "    print(\"Группа В достигла или превысила целевой уровень конверсии.\")\n",
    "else:\n",
    "    print(\"Группа В не достигла целевого уровня конверсии.\")"
   ]
  },
  {
   "cell_type": "markdown",
   "id": "sh1JpGvAs5E3",
   "metadata": {
    "id": "sh1JpGvAs5E3"
   },
   "source": [
    "### Предварительный вывод\n",
    "\n",
    "Количество задействованных в тестировании пользователей превышает требуемое количество пользователей, что подтверждает корректность теста.\n",
    "\n",
    "В контрольной группе количество пользователей, совершивших покупку меньше, чем в группе В, но в то же время и общее чисо пользователей в контрольной группе ниже. В то время как расхождение в общем числе пользователей достаточно незначительно (1.18%), количество покупателей в группе В выше на 8%, что можно считать значительным приростом. Следовтельно, можно сделать следующий предварительный вывод: **число покупателей увеличилось**. "
   ]
  },
  {
   "cell_type": "markdown",
   "id": "IKZ1Oo3Ws919",
   "metadata": {
    "id": "IKZ1Oo3Ws919"
   },
   "source": [
    "## 3. Оценка результатов A/B-тестирования"
   ]
  },
  {
   "cell_type": "markdown",
   "id": "d42936f0-272a-45c5-ab7b-f5bf1831e06e",
   "metadata": {
    "id": "l_KOziBQtL3t"
   },
   "source": [
    "Так как оценка результатов A/B-тестирования включает в себя сравнение конверсий в покупку двух групп. Сравнение долей позволяет провести Z-тест пропорций. \n",
    "\n",
    "Проверим, что динамика количества пользователей в группах сопоставима."
   ]
  },
  {
   "cell_type": "code",
   "execution_count": 28,
   "id": "379db0fc-c7e5-4881-84a3-40a32baa291b",
   "metadata": {},
   "outputs": [
    {
     "data": {
      "image/png": "[encoded data removed]",
      "text/plain": [
       "<Figure size 864x432 with 1 Axes>"
      ]
     },
     "metadata": {
      "needs_background": "light"
     },
     "output_type": "display_data"
    }
   ],
   "source": [
    "# Объединяем с participants_int по user_id, добавляя колонку registration_date\n",
    "participants_int = participants_int.merge(registration_dates, on='user_id', how='left')\n",
    "\n",
    "# Создаем таблицу с датами и группами\n",
    "participants_groups = participants_int[['user_id', 'group', 'registration_date']]\n",
    "\n",
    "# Группируем по дате регистрации и группе\n",
    "daily_counts = (\n",
    "    participants_groups.groupby(['registration_date', 'group'])\n",
    "    .size()\n",
    "    .reset_index(name='new_users')\n",
    ")\n",
    "\n",
    "# Создаем сводную таблицу для накопительного подсчета\n",
    "pivot_table = daily_counts.pivot(index='registration_date', columns='group', values='new_users').fillna(0)\n",
    "\n",
    "# Вычисляем накопительный итог по каждой группе\n",
    "cumulative = pivot_table.cumsum()\n",
    "\n",
    "# Строим график\n",
    "plt.figure(figsize=(12, 6))\n",
    "for group in ['A', 'B']:\n",
    "    if group in cumulative.columns:\n",
    "        plt.plot(cumulative.index, cumulative[group], label=f'Группа {group}')\n",
    "\n",
    "plt.xlabel('Дата')\n",
    "plt.ylabel('Общее количество пользователей')\n",
    "plt.title('Динамика количества пользователей по группам')\n",
    "plt.legend()\n",
    "plt.grid(True)\n",
    "plt.show()"
   ]
  },
  {
   "cell_type": "markdown",
   "id": "2c499a4b-79e6-44b4-8740-426ad38cb512",
   "metadata": {},
   "source": [
    "Динамика пользователей в обеих тестовых группах достаточно схожа для проведения Z-теста пропорций.\n",
    "Проверим достаточное ли количество данных представлено в тестовых группах."
   ]
  },
  {
   "cell_type": "code",
   "execution_count": 29,
   "id": "8109b11e-486e-4631-b31b-d113ba3ede0e",
   "metadata": {},
   "outputs": [
    {
     "name": "stdout",
     "output_type": "stream",
     "text": [
      "Предпосылка о достаточном количестве данных выполняется!\n"
     ]
    }
   ],
   "source": [
    "# Находим размеры выборок A и B\n",
    "n_a = a_visitors_total\n",
    "n_b = b_visitors_total\n",
    "\n",
    "# Находим количество успехов (покупателей) в группах А и B\n",
    "m_a = a_buyers_count\n",
    "m_b = b_buyers_count \n",
    "\n",
    "# Рассчитываем доли успехов для каждой группы: A и B\n",
    "p_a, p_b = m_a/n_a, m_b/n_b \n",
    "\n",
    "if (p_a*n_a > 10)and((1-p_a)*n_a > 10)and(p_b*n_b > 10)and((1-p_b)*n_b > 10):\n",
    "    print('Предпосылка о достаточном количестве данных выполняется!')\n",
    "else:\n",
    "    print('Предпосылка о достаточном количестве данных НЕ выполняется!')"
   ]
  },
  {
   "cell_type": "code",
   "execution_count": 30,
   "id": "cf2231a5-e194-4696-a4b0-ea2660fa85d0",
   "metadata": {},
   "outputs": [
    {
     "name": "stdout",
     "output_type": "stream",
     "text": [
      "pvalue=0.004511578024761222 < 0.05\n",
      "Нулевая гипотеза не находит подтверждения!\n"
     ]
    }
   ],
   "source": [
    "from statsmodels.stats.proportion import proportions_ztest\n",
    "\n",
    "# Устанавливаем заданный уровень значимости\n",
    "alpha = 0.05 \n",
    "stat_ztest, p_value_ztest = proportions_ztest(\n",
    "    [m_a, m_b],\n",
    "    [n_a, n_b],\n",
    "    alternative='smaller' \n",
    ")\n",
    "\n",
    "if p_value_ztest > alpha:\n",
    "    print(f'pvalue={p_value_ztest} > {alpha}')\n",
    "    print('Нулевая гипотеза находит подтверждение!')\n",
    "else:\n",
    "    print(f'pvalue={p_value_ztest} < {alpha}')\n",
    "    print('Нулевая гипотеза не находит подтверждения!')"
   ]
  },
  {
   "cell_type": "markdown",
   "id": "0edb1b70-c43d-4ef1-b08d-39d51e0eef34",
   "metadata": {},
   "source": [
    "## 4. Итоги анализа результатов A/B-тестирования\n",
    "\n",
    "На основе проведённого анализа результатов A/B-тестирования можно сделать следующие выводы:\n",
    "\n",
    "В рамках эксперимента было задействовано 10 850 пользователей, которые разделены на две группы: контрольную, использовавшую старый интерфейс сайта и тестовую, использовавшую обновленную версию сайта. Обе группы были сбалансированы по ключевым характеристикам, что обеспечило корректность сравнения.\n",
    "\n",
    "Параметры теста:\n",
    "* Уровень значимости — 0.05\n",
    "* Вероятность ошибки второго рода — 20%\n",
    "* Мощность теста — 80%\n",
    "* Минимальный детектируемый эффект (MDE) — 3%\n",
    "* Базовая конверсия — 30%\n",
    "  \n",
    "Внедрение нового дизайна сайта привело к статистически значимому росту конверсии в покупку. \n",
    "Конверсия в покупку в группе В составила 35.6%, что превышает установленную отметку в 33%. Анализ доказал, что показатели выросли относительно контрольной группы, что свидетельствует о наличии заметного эффекта от нововведения.\n",
    "\n",
    "Значение p-value для Z-теста пропорций составляет 0.0045, что значительно ниже уровня значимости 0.05. Это означает, что нулевая гипотеза о равенстве конверсий в покупку между группами отвергается. Таким образом, было выявлено статистически значимое различие в показателях конверсии в покупку с сайта после внедрения нового дизайна и до него.\n",
    "\n",
    "Учитывая, что тест показал статистическую значимость, рекомендуется внедрять новый дизайн для основной аудитории. Это свидетельствует о наличии значимого эффекта и оправдывает использование данного нововведения для дальнешйнего развития сайта интернет-магазина. В дальнейшем рекомендуется провести дополнительные исследования для оптимизации сайта и процесса оформления заказа, но на данном этапе внедрение целесообразно."
   ]
  }
 ],
 "metadata": {
  "ExecuteTimeLog": [
   {
    "duration": 1270,
    "start_time": "2025-08-13T20:33:03.645Z"
   },
   {
    "duration": 107,
    "start_time": "2025-08-13T20:33:04.917Z"
   },
   {
    "duration": 11,
    "start_time": "2025-08-13T20:33:05.026Z"
   },
   {
    "duration": 9,
    "start_time": "2025-08-13T20:33:05.039Z"
   },
   {
    "duration": 7,
    "start_time": "2025-08-13T20:33:05.050Z"
   },
   {
    "duration": 15,
    "start_time": "2025-08-13T20:33:05.059Z"
   },
   {
    "duration": 12,
    "start_time": "2025-08-13T20:33:05.079Z"
   },
   {
    "duration": 2152,
    "start_time": "2025-08-13T20:33:05.093Z"
   },
   {
    "duration": 1498,
    "start_time": "2025-08-13T20:33:07.247Z"
   },
   {
    "duration": 259,
    "start_time": "2025-08-13T20:33:08.747Z"
   },
   {
    "duration": 14,
    "start_time": "2025-08-13T20:33:09.007Z"
   },
   {
    "duration": 11,
    "start_time": "2025-08-13T20:33:09.023Z"
   },
   {
    "duration": 5,
    "start_time": "2025-08-13T20:33:09.037Z"
   },
   {
    "duration": 1755,
    "start_time": "2025-08-13T20:33:09.047Z"
   },
   {
    "duration": 8,
    "start_time": "2025-08-13T20:33:10.803Z"
   },
   {
    "duration": 87,
    "start_time": "2025-08-13T20:33:10.813Z"
   },
   {
    "duration": 10,
    "start_time": "2025-08-13T20:33:10.902Z"
   },
   {
    "duration": 159,
    "start_time": "2025-08-13T20:33:10.914Z"
   },
   {
    "duration": 23,
    "start_time": "2025-08-13T20:33:11.078Z"
   },
   {
    "duration": 18,
    "start_time": "2025-08-13T20:33:11.105Z"
   },
   {
    "duration": 10,
    "start_time": "2025-08-13T20:33:11.124Z"
   },
   {
    "duration": 10,
    "start_time": "2025-08-13T20:33:11.135Z"
   },
   {
    "duration": 8,
    "start_time": "2025-08-13T20:33:11.146Z"
   },
   {
    "duration": 80,
    "start_time": "2025-08-13T20:33:11.170Z"
   },
   {
    "duration": 73,
    "start_time": "2025-08-13T20:33:11.252Z"
   },
   {
    "duration": 50,
    "start_time": "2025-08-13T20:33:11.327Z"
   },
   {
    "duration": 366,
    "start_time": "2025-08-13T20:33:11.380Z"
   },
   {
    "duration": 4,
    "start_time": "2025-08-13T20:33:11.750Z"
   },
   {
    "duration": 19,
    "start_time": "2025-08-13T20:33:11.764Z"
   },
   {
    "duration": 5,
    "start_time": "2025-08-13T20:36:34.807Z"
   },
   {
    "duration": 18,
    "start_time": "2025-08-13T20:39:22.868Z"
   },
   {
    "duration": 1272,
    "start_time": "2025-08-16T08:56:45.243Z"
   },
   {
    "duration": 50,
    "start_time": "2025-08-16T08:56:46.517Z"
   },
   {
    "duration": 10,
    "start_time": "2025-08-16T08:56:46.569Z"
   },
   {
    "duration": 3,
    "start_time": "2025-08-16T08:56:46.581Z"
   },
   {
    "duration": 4,
    "start_time": "2025-08-16T08:56:46.589Z"
   },
   {
    "duration": 8,
    "start_time": "2025-08-16T08:56:46.595Z"
   },
   {
    "duration": 1736,
    "start_time": "2025-08-16T08:56:46.604Z"
   },
   {
    "duration": 1320,
    "start_time": "2025-08-16T08:56:48.342Z"
   },
   {
    "duration": 201,
    "start_time": "2025-08-16T08:56:49.664Z"
   },
   {
    "duration": 22,
    "start_time": "2025-08-16T08:56:49.867Z"
   },
   {
    "duration": 30,
    "start_time": "2025-08-16T08:56:49.891Z"
   },
   {
    "duration": 4,
    "start_time": "2025-08-16T08:56:49.922Z"
   },
   {
    "duration": 1399,
    "start_time": "2025-08-16T08:56:49.927Z"
   },
   {
    "duration": 8,
    "start_time": "2025-08-16T08:56:51.328Z"
   },
   {
    "duration": 25,
    "start_time": "2025-08-16T08:56:51.337Z"
   },
   {
    "duration": 113,
    "start_time": "2025-08-16T08:56:51.363Z"
   },
   {
    "duration": 106,
    "start_time": "2025-08-16T08:56:51.478Z"
   },
   {
    "duration": 9,
    "start_time": "2025-08-16T08:56:51.586Z"
   },
   {
    "duration": 163,
    "start_time": "2025-08-16T08:56:51.596Z"
   },
   {
    "duration": 9,
    "start_time": "2025-08-16T08:56:51.761Z"
   },
   {
    "duration": 7,
    "start_time": "2025-08-16T08:56:51.771Z"
   },
   {
    "duration": 7,
    "start_time": "2025-08-16T08:56:51.780Z"
   },
   {
    "duration": 96,
    "start_time": "2025-08-16T08:56:51.788Z"
   },
   {
    "duration": 59,
    "start_time": "2025-08-16T08:56:51.886Z"
   },
   {
    "duration": 17,
    "start_time": "2025-08-16T08:56:51.947Z"
   },
   {
    "duration": 46,
    "start_time": "2025-08-16T08:56:51.965Z"
   },
   {
    "duration": 5,
    "start_time": "2025-08-16T08:56:52.013Z"
   },
   {
    "duration": 320,
    "start_time": "2025-08-16T08:56:52.021Z"
   },
   {
    "duration": 5,
    "start_time": "2025-08-16T08:56:52.343Z"
   },
   {
    "duration": 85,
    "start_time": "2025-08-16T08:56:52.350Z"
   },
   {
    "duration": 1050,
    "start_time": "2025-08-16T08:57:18.432Z"
   },
   {
    "duration": 51,
    "start_time": "2025-08-16T08:57:19.484Z"
   },
   {
    "duration": 11,
    "start_time": "2025-08-16T08:57:19.537Z"
   },
   {
    "duration": 4,
    "start_time": "2025-08-16T08:57:19.550Z"
   },
   {
    "duration": 186,
    "start_time": "2025-08-16T08:57:19.557Z"
   },
   {
    "duration": 10,
    "start_time": "2025-08-16T08:57:19.744Z"
   },
   {
    "duration": 1834,
    "start_time": "2025-08-16T08:57:19.755Z"
   },
   {
    "duration": 1372,
    "start_time": "2025-08-16T08:57:21.591Z"
   },
   {
    "duration": 210,
    "start_time": "2025-08-16T08:57:22.965Z"
   },
   {
    "duration": 17,
    "start_time": "2025-08-16T08:57:23.177Z"
   },
   {
    "duration": 11,
    "start_time": "2025-08-16T08:57:23.195Z"
   },
   {
    "duration": 3,
    "start_time": "2025-08-16T08:57:23.207Z"
   },
   {
    "duration": 1401,
    "start_time": "2025-08-16T08:57:23.212Z"
   },
   {
    "duration": 8,
    "start_time": "2025-08-16T08:57:24.616Z"
   },
   {
    "duration": 16,
    "start_time": "2025-08-16T08:57:24.626Z"
   },
   {
    "duration": 10,
    "start_time": "2025-08-16T08:57:24.643Z"
   },
   {
    "duration": 171,
    "start_time": "2025-08-16T08:57:24.655Z"
   },
   {
    "duration": 8,
    "start_time": "2025-08-16T08:57:24.828Z"
   },
   {
    "duration": 9,
    "start_time": "2025-08-16T08:57:24.837Z"
   },
   {
    "duration": 8,
    "start_time": "2025-08-16T08:57:24.848Z"
   },
   {
    "duration": 33,
    "start_time": "2025-08-16T08:57:24.857Z"
   },
   {
    "duration": 8,
    "start_time": "2025-08-16T08:57:24.891Z"
   },
   {
    "duration": 65,
    "start_time": "2025-08-16T08:57:24.901Z"
   },
   {
    "duration": 65,
    "start_time": "2025-08-16T08:57:24.968Z"
   },
   {
    "duration": 24,
    "start_time": "2025-08-16T08:57:25.034Z"
   },
   {
    "duration": 46,
    "start_time": "2025-08-16T08:57:25.060Z"
   },
   {
    "duration": 5,
    "start_time": "2025-08-16T08:57:25.108Z"
   },
   {
    "duration": 319,
    "start_time": "2025-08-16T08:57:25.115Z"
   },
   {
    "duration": 4,
    "start_time": "2025-08-16T08:57:25.436Z"
   },
   {
    "duration": 76,
    "start_time": "2025-08-16T08:57:25.442Z"
   }
  ],
  "colab": {
   "provenance": [],
   "toc_visible": true
  },
  "kernelspec": {
   "display_name": "Python 3 (ipykernel)",
   "language": "python",
   "name": "python3"
  },
  "language_info": {
   "codemirror_mode": {
    "name": "ipython",
    "version": 3
   },
   "file_extension": ".py",
   "mimetype": "text/x-python",
   "name": "python",
   "nbconvert_exporter": "python",
   "pygments_lexer": "ipython3",
   "version": "3.12.7"
  },
  "toc": {
   "base_numbering": 1,
   "nav_menu": {},
   "number_sections": true,
   "sideBar": true,
   "skip_h1_title": true,
   "title_cell": "Table of Contents",
   "title_sidebar": "Contents",
   "toc_cell": false,
   "toc_position": {},
   "toc_section_display": true,
   "toc_window_display": false
  }
 },
 "nbformat": 4,
 "nbformat_minor": 5
}
